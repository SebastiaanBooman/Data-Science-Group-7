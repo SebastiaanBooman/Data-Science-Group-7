{
 "cells": [
  {
   "cell_type": "markdown",
   "metadata": {},
   "source": [
    "# Base Vector Auto-Regressive Model"
   ]
  },
  {
   "cell_type": "markdown",
   "metadata": {},
   "source": [
    "Alles is basically hiervan gestolen: https://www.machinelearningplus.com/time-series/vector-autoregression-examples-python/"
   ]
  },
  {
   "cell_type": "code",
   "execution_count": 220,
   "metadata": {},
   "outputs": [],
   "source": [
    "# This makes sure Pandas keeps it mouth shut\n",
    "import warnings\n",
    "warnings.simplefilter(action = 'ignore', category = FutureWarning)\n",
    "\n",
    "import pandas as pd\n",
    "import numpy as np"
   ]
  },
  {
   "cell_type": "markdown",
   "metadata": {},
   "source": [
    "## Data Preprocessing\n",
    "Before we do anything, we first import our dataset."
   ]
  },
  {
   "cell_type": "code",
   "execution_count": 221,
   "metadata": {},
   "outputs": [],
   "source": [
    "pwt = pd.read_excel('../../Data/pwt1001.xlsx',\n",
    "                    sheet_name = 'Data',\n",
    "                    parse_dates = ['year'],\n",
    "                    index_col = 3)"
   ]
  },
  {
   "cell_type": "markdown",
   "metadata": {},
   "source": [
    "Now, we:\n",
    "- Filter out the country we will make the prediction for\n",
    "- Select the columns we use in the calculation\n",
    "- Drop N/A values"
   ]
  },
  {
   "cell_type": "code",
   "execution_count": 403,
   "metadata": {},
   "outputs": [],
   "source": [
    "gdp = 'cgdpo'\n",
    "country_code = 'USA'\n",
    "\n",
    "# Filter out the relevant country\n",
    "df = pwt[pwt['countrycode'] == country_code]\n",
    "country_name = df['country'][0]\n",
    "\n",
    "# Filter out the variables we need and drop N/A values\n",
    "df = df[[gdp, 'ccon', 'rdana']]\n",
    "df = df.dropna()"
   ]
  },
  {
   "cell_type": "markdown",
   "metadata": {},
   "source": [
    "## Testing Causation\n",
    "Granger's causality test is used to determine whether one time series influence another, i.e. it tests if there is causation or not.\n"
   ]
  },
  {
   "cell_type": "code",
   "execution_count": 404,
   "metadata": {},
   "outputs": [
    {
     "data": {
      "text/html": [
       "<div>\n",
       "<style scoped>\n",
       "    .dataframe tbody tr th:only-of-type {\n",
       "        vertical-align: middle;\n",
       "    }\n",
       "\n",
       "    .dataframe tbody tr th {\n",
       "        vertical-align: top;\n",
       "    }\n",
       "\n",
       "    .dataframe thead th {\n",
       "        text-align: right;\n",
       "    }\n",
       "</style>\n",
       "<table border=\"1\" class=\"dataframe\">\n",
       "  <thead>\n",
       "    <tr style=\"text-align: right;\">\n",
       "      <th></th>\n",
       "      <th>cgdpo</th>\n",
       "      <th>ccon</th>\n",
       "      <th>rdana</th>\n",
       "    </tr>\n",
       "  </thead>\n",
       "  <tbody>\n",
       "    <tr>\n",
       "      <th>cgdpo</th>\n",
       "      <td>1</td>\n",
       "      <td>0.085</td>\n",
       "      <td>0.0</td>\n",
       "    </tr>\n",
       "    <tr>\n",
       "      <th>ccon</th>\n",
       "      <td>0.0</td>\n",
       "      <td>1</td>\n",
       "      <td>0.0</td>\n",
       "    </tr>\n",
       "    <tr>\n",
       "      <th>rdana</th>\n",
       "      <td>0.0</td>\n",
       "      <td>0.324</td>\n",
       "      <td>1</td>\n",
       "    </tr>\n",
       "  </tbody>\n",
       "</table>\n",
       "</div>"
      ],
      "text/plain": [
       "      cgdpo   ccon rdana\n",
       "cgdpo     1  0.085   0.0\n",
       "ccon    0.0      1   0.0\n",
       "rdana   0.0  0.324     1"
      ]
     },
     "metadata": {},
     "output_type": "display_data"
    },
    {
     "name": "stdout",
     "output_type": "stream",
     "text": [
      "Causation is not present for all variables\n"
     ]
    }
   ],
   "source": [
    "from statsmodels.tsa.stattools import grangercausalitytests\n",
    "\n",
    "def causation_test(data: pd.DataFrame, verbose = False) -> bool:\n",
    "    maxlag = round(12 * pow(len(df) / 100, 1/4))\n",
    "    alpha = 0.05\n",
    "    results = pd.DataFrame([], columns = data.columns, index = data.columns)\n",
    "    causation = True\n",
    "\n",
    "    # TODO: find out whether we need to have causation between all variables,\n",
    "    #       or only for the variable we want, the rgdpna\n",
    "    for col in results.columns:\n",
    "        for row in results.index:\n",
    "            if row == col:\n",
    "                results.loc[row, col] = 1\n",
    "                continue\n",
    "\n",
    "            result = grangercausalitytests(\n",
    "                data[[row, col]],\n",
    "                maxlag   = maxlag,\n",
    "                addconst = True,\n",
    "                verbose  = False\n",
    "            )\n",
    "\n",
    "            p_values = [round(result[i + 1][0]['ssr_chi2test'][1], 3) for i in range(maxlag)]\n",
    "            p_value = np.min(p_values)\n",
    "\n",
    "            results.loc[row, col] = p_value\n",
    "\n",
    "            if p_value >= alpha:\n",
    "                causation = False\n",
    "\n",
    "    if verbose:\n",
    "        display(results)\n",
    "\n",
    "    return causation\n",
    "\n",
    "if causation_test(df, True):\n",
    "    print('Causation is present between all variables')\n",
    "else:\n",
    "    print('Causation is not present for all variables')"
   ]
  },
  {
   "cell_type": "markdown",
   "metadata": {},
   "source": [
    "## Testing Multicollinearity"
   ]
  },
  {
   "cell_type": "code",
   "execution_count": 405,
   "metadata": {},
   "outputs": [],
   "source": [
    "# TODO"
   ]
  },
  {
   "cell_type": "markdown",
   "metadata": {},
   "source": [
    "## Testing Cointegration\n",
    "Cointegration means there is a long-term tendency for two or more time series to move together.\n",
    "\n",
    "There are multiple ways to test for cointegration, like Engle-Granger and Johansen. While the Engle-Granger test is more simple, the Johansen test allows for multiple cointegrated relationships to be tested. Johansen is therefore the one that is used here."
   ]
  },
  {
   "cell_type": "code",
   "execution_count": 406,
   "metadata": {},
   "outputs": [
    {
     "data": {
      "text/html": [
       "<div>\n",
       "<style scoped>\n",
       "    .dataframe tbody tr th:only-of-type {\n",
       "        vertical-align: middle;\n",
       "    }\n",
       "\n",
       "    .dataframe tbody tr th {\n",
       "        vertical-align: top;\n",
       "    }\n",
       "\n",
       "    .dataframe thead th {\n",
       "        text-align: right;\n",
       "    }\n",
       "</style>\n",
       "<table border=\"1\" class=\"dataframe\">\n",
       "  <thead>\n",
       "    <tr style=\"text-align: right;\">\n",
       "      <th></th>\n",
       "      <th>Trace</th>\n",
       "      <th>Critical Value (95%)</th>\n",
       "      <th>Significant</th>\n",
       "    </tr>\n",
       "  </thead>\n",
       "  <tbody>\n",
       "    <tr>\n",
       "      <th>cgdpo</th>\n",
       "      <td>39.89</td>\n",
       "      <td>24.276</td>\n",
       "      <td>Yes</td>\n",
       "    </tr>\n",
       "    <tr>\n",
       "      <th>ccon</th>\n",
       "      <td>16.107</td>\n",
       "      <td>12.321</td>\n",
       "      <td>Yes</td>\n",
       "    </tr>\n",
       "    <tr>\n",
       "      <th>rdana</th>\n",
       "      <td>1.877</td>\n",
       "      <td>4.13</td>\n",
       "      <td>No</td>\n",
       "    </tr>\n",
       "  </tbody>\n",
       "</table>\n",
       "</div>"
      ],
      "text/plain": [
       "        Trace Critical Value (95%) Significant\n",
       "cgdpo   39.89               24.276         Yes\n",
       "ccon   16.107               12.321         Yes\n",
       "rdana   1.877                 4.13          No"
      ]
     },
     "metadata": {},
     "output_type": "display_data"
    },
    {
     "name": "stdout",
     "output_type": "stream",
     "text": [
      "A significant relationship is not present for all variables\n"
     ]
    }
   ],
   "source": [
    "from statsmodels.tsa.vector_ar.vecm import coint_johansen\n",
    "\n",
    "def cointegration_test(data: pd.DataFrame, verbose = False) -> bool:\n",
    "    results = pd.DataFrame()\n",
    "    cointegration = True\n",
    "\n",
    "    result = coint_johansen(\n",
    "        data,\n",
    "        det_order = -1, # No deterministic terms\n",
    "        k_ar_diff = 5 # TODO not entirely sure what value we should use here\n",
    "    )\n",
    "\n",
    "    for name, trace, cv95 in zip(df.columns, result.trace_stat, result.cvt[:,1]):\n",
    "        results[name] = {\n",
    "            'Trace':                round(trace, 3),\n",
    "            'Critical Value (95%)': round(cv95, 3),\n",
    "            'Significant':          'Yes' if trace > cv95 else 'No'\n",
    "        }\n",
    "\n",
    "        if trace <= cv95:\n",
    "            cointegration = False\n",
    "    \n",
    "    if verbose:\n",
    "        display(results.transpose())\n",
    "\n",
    "    return cointegration\n",
    "\n",
    "if cointegration_test(df, True):\n",
    "    print('A significant relationship is present between all variables')\n",
    "else:\n",
    "    print('A significant relationship is not present for all variables')"
   ]
  },
  {
   "cell_type": "markdown",
   "metadata": {},
   "source": [
    "## Split\n",
    "Now we split the data into a test, and training sample."
   ]
  },
  {
   "cell_type": "code",
   "execution_count": 423,
   "metadata": {},
   "outputs": [],
   "source": [
    "train_length = int(len(df) * 0.75)\n",
    "df_train = df[:train_length]\n",
    "df_test = df[train_length:]"
   ]
  },
  {
   "cell_type": "markdown",
   "metadata": {},
   "source": [
    "## Stationarity\n",
    "Now a _Augmented Dickey-Fuller (ADF)_ test is performed to check if the data is stationary.\n",
    "\n",
    "When data is stationary, its properties such as variance and mean, are constant over time. For VAR to forecast meaningful results, it is required that the data that is put in is stationary. \n",
    "\n",
    "There are also other methods of determining whether a series is stationary or not, but ADF seems to be the most popular one.\n",
    "\n",
    "A significance level (alpha) of __5%__ is used to determine whether or not a series is stationary or not.\n",
    "\n",
    "If any series is not stationary, all series are differenced again until they all are stationary."
   ]
  },
  {
   "cell_type": "code",
   "execution_count": 424,
   "metadata": {},
   "outputs": [
    {
     "data": {
      "text/html": [
       "<div>\n",
       "<style scoped>\n",
       "    .dataframe tbody tr th:only-of-type {\n",
       "        vertical-align: middle;\n",
       "    }\n",
       "\n",
       "    .dataframe tbody tr th {\n",
       "        vertical-align: top;\n",
       "    }\n",
       "\n",
       "    .dataframe thead th {\n",
       "        text-align: right;\n",
       "    }\n",
       "</style>\n",
       "<table border=\"1\" class=\"dataframe\">\n",
       "  <thead>\n",
       "    <tr style=\"text-align: right;\">\n",
       "      <th></th>\n",
       "      <th>P-Value</th>\n",
       "      <th>Number lags</th>\n",
       "      <th>Stationary</th>\n",
       "    </tr>\n",
       "  </thead>\n",
       "  <tbody>\n",
       "    <tr>\n",
       "      <th>cgdpo</th>\n",
       "      <td>1.0</td>\n",
       "      <td>0</td>\n",
       "      <td>No</td>\n",
       "    </tr>\n",
       "    <tr>\n",
       "      <th>ccon</th>\n",
       "      <td>1.0</td>\n",
       "      <td>1</td>\n",
       "      <td>No</td>\n",
       "    </tr>\n",
       "    <tr>\n",
       "      <th>rdana</th>\n",
       "      <td>0.999</td>\n",
       "      <td>2</td>\n",
       "      <td>No</td>\n",
       "    </tr>\n",
       "  </tbody>\n",
       "</table>\n",
       "</div>"
      ],
      "text/plain": [
       "      P-Value Number lags Stationary\n",
       "cgdpo     1.0           0         No\n",
       "ccon      1.0           1         No\n",
       "rdana   0.999           2         No"
      ]
     },
     "metadata": {},
     "output_type": "display_data"
    },
    {
     "name": "stdout",
     "output_type": "stream",
     "text": [
      "One or more series are non-stationary, differencing... (pass = 1)\n"
     ]
    },
    {
     "data": {
      "text/html": [
       "<div>\n",
       "<style scoped>\n",
       "    .dataframe tbody tr th:only-of-type {\n",
       "        vertical-align: middle;\n",
       "    }\n",
       "\n",
       "    .dataframe tbody tr th {\n",
       "        vertical-align: top;\n",
       "    }\n",
       "\n",
       "    .dataframe thead th {\n",
       "        text-align: right;\n",
       "    }\n",
       "</style>\n",
       "<table border=\"1\" class=\"dataframe\">\n",
       "  <thead>\n",
       "    <tr style=\"text-align: right;\">\n",
       "      <th></th>\n",
       "      <th>P-Value</th>\n",
       "      <th>Number lags</th>\n",
       "      <th>Stationary</th>\n",
       "    </tr>\n",
       "  </thead>\n",
       "  <tbody>\n",
       "    <tr>\n",
       "      <th>cgdpo</th>\n",
       "      <td>0.001</td>\n",
       "      <td>0</td>\n",
       "      <td>Yes</td>\n",
       "    </tr>\n",
       "    <tr>\n",
       "      <th>ccon</th>\n",
       "      <td>0.05</td>\n",
       "      <td>0</td>\n",
       "      <td>Yes</td>\n",
       "    </tr>\n",
       "    <tr>\n",
       "      <th>rdana</th>\n",
       "      <td>0.001</td>\n",
       "      <td>0</td>\n",
       "      <td>Yes</td>\n",
       "    </tr>\n",
       "  </tbody>\n",
       "</table>\n",
       "</div>"
      ],
      "text/plain": [
       "      P-Value Number lags Stationary\n",
       "cgdpo   0.001           0        Yes\n",
       "ccon     0.05           0        Yes\n",
       "rdana   0.001           0        Yes"
      ]
     },
     "metadata": {},
     "output_type": "display_data"
    },
    {
     "name": "stdout",
     "output_type": "stream",
     "text": [
      "All series are stationary\n"
     ]
    }
   ],
   "source": [
    "from statsmodels.tsa.stattools import adfuller\n",
    "\n",
    "def stationarity_test(data: pd.DataFrame, verbose = False) -> bool:\n",
    "    maxlag = round(12 * pow(len(df) / 100, 1/4))\n",
    "    alpha = 0.05\n",
    "    results = pd.DataFrame()\n",
    "    stationary = True\n",
    "\n",
    "    for name, series in data.items():\n",
    "        result = adfuller(\n",
    "            series,\n",
    "            maxlag     = maxlag,\n",
    "            regression = 'c', # Constant regression\n",
    "            autolag    = 'AIC', \n",
    "            store      = False,\n",
    "            regresults = False\n",
    "        )\n",
    "\n",
    "        results[name] = {\n",
    "            'P-Value':     round(result[1], 3),\n",
    "            'Number lags': result[2],\n",
    "            'Stationary':  'Yes' if result[1] <= alpha else 'No'\n",
    "        }\n",
    "\n",
    "        if result[1] > alpha:\n",
    "            stationary = False\n",
    "\n",
    "    if verbose:\n",
    "        display(results.transpose())\n",
    "\n",
    "    return stationary\n",
    "\n",
    "df_diff = df_train\n",
    "diff_pass = 1\n",
    "while stationarity_test(df_diff, True) == False:\n",
    "    print(f'One or more series are non-stationary, differencing... (pass = {diff_pass})')\n",
    "    df_diff = df_diff.diff().dropna()\n",
    "    diff_pass += 1\n",
    "\n",
    "    if diff_pass > 10:\n",
    "        print('Unable to make all series stationary')\n",
    "        break\n",
    "else:\n",
    "    print('All series are stationary')"
   ]
  },
  {
   "cell_type": "markdown",
   "metadata": {},
   "source": [
    "## Fitting and Lag Order Selection\n",
    "\n",
    "The lag order refers to how far the VAR model looks back in the time series.\n",
    "\n",
    "Determining the optimal lag order will greatly influence the results of the prediction. Besides manually selecting the lag order, there are several statistical methods that select the lag order, such as AIC, BIC, FPE and HQIC.\n",
    "\n",
    "Here, the lag order is automatically chosen based on the HQIC method. QHIC is a combination of both AIC and BIC.\n",
    "AIC is the most simple method, but is prone to overfitting.\n",
    "BIC is more conservative, and is less likely to overfit."
   ]
  },
  {
   "cell_type": "code",
   "execution_count": 425,
   "metadata": {},
   "outputs": [
    {
     "name": "stdout",
     "output_type": "stream",
     "text": [
      "{'aic': 10, 'bic': 1, 'hqic': 10, 'fpe': 10}\n",
      "Max. lag = 1\n"
     ]
    }
   ],
   "source": [
    "from statsmodels.tsa.api import VAR\n",
    "\n",
    "model = VAR(df_diff, freq = df_diff.index.inferred_freq)\n",
    "maxlag = model.select_order().selected_orders['bic']\n",
    "\n",
    "print(model.select_order().selected_orders)\n",
    "print(f'Max. lag = {maxlag}')\n",
    "maxlag = 8 # FIXME: what is the right max lag???\n",
    "\n",
    "results = model.fit(\n",
    "    maxlags = maxlag,\n",
    "    method  = 'ols',\n",
    "    ic      = None,\n",
    "    trend   = 'c' # Add constant\n",
    ")"
   ]
  },
  {
   "cell_type": "markdown",
   "metadata": {},
   "source": [
    "## Check for Serial Correlation of Residuals\n",
    "\n",
    "TODO explain"
   ]
  },
  {
   "cell_type": "code",
   "execution_count": 426,
   "metadata": {},
   "outputs": [
    {
     "name": "stdout",
     "output_type": "stream",
     "text": [
      "cgdpo  : 2.13\n",
      "ccon   : 1.81\n",
      "rdana  : 2.12\n"
     ]
    }
   ],
   "source": [
    "from statsmodels.stats.stattools import durbin_watson\n",
    "\n",
    "out = durbin_watson(results.resid)\n",
    "\n",
    "def adjust(val, length= 6): return str(val).ljust(length)\n",
    "for col, val in zip(df.columns, out):\n",
    "    print(adjust(col), ':', round(val, 2))"
   ]
  },
  {
   "cell_type": "markdown",
   "metadata": {},
   "source": [
    "## Forecasting\n",
    "Now the model will make a prediction for the period of the test data based on the training data."
   ]
  },
  {
   "cell_type": "code",
   "execution_count": 427,
   "metadata": {},
   "outputs": [],
   "source": [
    "horizon = len(df_test)\n",
    "df_forecast_diff = pd.DataFrame(\n",
    "    results.forecast(df_diff.values[-maxlag:], steps = horizon),\n",
    "    columns = df_diff.columns,\n",
    "    index = df_test.iloc[:horizon].index\n",
    ")\n",
    "\n",
    "# Reverse the differencing\n",
    "df_forecast = df_forecast_diff.cumsum() + df_train[df_train.index < df_forecast_diff.index[0]].iloc[-1]"
   ]
  },
  {
   "cell_type": "markdown",
   "metadata": {},
   "source": [
    "## Forecast Plot"
   ]
  },
  {
   "cell_type": "code",
   "execution_count": 428,
   "metadata": {},
   "outputs": [
    {
     "data": {
      "image/png": "[encoded data removed]",
      "text/plain": [
       "<Figure size 640x480 with 1 Axes>"
      ]
     },
     "metadata": {},
     "output_type": "display_data"
    }
   ],
   "source": [
    "from sklearn.metrics import mean_squared_error\n",
    "import matplotlib.pyplot as plt\n",
    "\n",
    "rmse = mean_squared_error(df_forecast[gdp], df_test[gdp].values[:horizon], squared = False)\n",
    "\n",
    "fig, ax = plt.subplots(1, 1)\n",
    "\n",
    "ax.plot(df_train[-train_length:][gdp], color='black', label='Train')\n",
    "ax.plot(df_test[:horizon][gdp], color='tab:blue', label = 'Test')\n",
    "ax.plot(df_forecast[gdp], color = 'tab:orange', label = 'Forecast')\n",
    "\n",
    "ax.xaxis.set_ticks_position('none')\n",
    "ax.yaxis.set_ticks_position('none')\n",
    "ax.spines['top'].set_alpha(0)\n",
    "ax.tick_params(labelsize = 6)\n",
    "ax.set_title(f'{country_name} GDP')\n",
    "ax.set_title(f'RMSE: {rmse}', loc = 'left', x = 0.04, y = 0.9, fontsize = 'small')\n",
    "ax.legend(loc = 'lower right')\n",
    "ax.spines[['right', 'top']].set_visible(False)"
   ]
  }
 ],
 "metadata": {
  "kernelspec": {
   "display_name": "Python 3",
   "language": "python",
   "name": "python3"
  },
  "language_info": {
   "codemirror_mode": {
    "name": "ipython",
    "version": 3
   },
   "file_extension": ".py",
   "mimetype": "text/x-python",
   "name": "python",
   "nbconvert_exporter": "python",
   "pygments_lexer": "ipython3",
   "version": "3.11.6"
  }
 },
 "nbformat": 4,
 "nbformat_minor": 2
}
